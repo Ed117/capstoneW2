{
    "cells": [
        {
            "metadata": {
                "collapsed": true
            },
            "cell_type": "markdown",
            "source": "<h1>Segmentation and Clustering</h1>\n<h2>Edward Mu\u00f1oz Garro</h2>\n<hr/>"
        },
        {
            "metadata": {},
            "cell_type": "code",
            "source": "import pandas as pd",
            "execution_count": 1,
            "outputs": []
        },
        {
            "metadata": {},
            "cell_type": "markdown",
            "source": "<h2>Part 1<h2>"
        },
        {
            "metadata": {},
            "cell_type": "code",
            "source": "df = pd.read_html('https://en.wikipedia.org/wiki/List_of_postal_codes_of_Canada:_M')[0]",
            "execution_count": 9,
            "outputs": []
        },
        {
            "metadata": {},
            "cell_type": "code",
            "source": "df.head()",
            "execution_count": 10,
            "outputs": [
                {
                    "output_type": "execute_result",
                    "execution_count": 10,
                    "data": {
                        "text/plain": "  Postal Code           Borough               Neighborhood\n0         M1A      Not assigned               Not assigned\n1         M2A      Not assigned               Not assigned\n2         M3A        North York                  Parkwoods\n3         M4A        North York           Victoria Village\n4         M5A  Downtown Toronto  Regent Park, Harbourfront",
                        "text/html": "<div>\n<style scoped>\n    .dataframe tbody tr th:only-of-type {\n        vertical-align: middle;\n    }\n\n    .dataframe tbody tr th {\n        vertical-align: top;\n    }\n\n    .dataframe thead th {\n        text-align: right;\n    }\n</style>\n<table border=\"1\" class=\"dataframe\">\n  <thead>\n    <tr style=\"text-align: right;\">\n      <th></th>\n      <th>Postal Code</th>\n      <th>Borough</th>\n      <th>Neighborhood</th>\n    </tr>\n  </thead>\n  <tbody>\n    <tr>\n      <th>0</th>\n      <td>M1A</td>\n      <td>Not assigned</td>\n      <td>Not assigned</td>\n    </tr>\n    <tr>\n      <th>1</th>\n      <td>M2A</td>\n      <td>Not assigned</td>\n      <td>Not assigned</td>\n    </tr>\n    <tr>\n      <th>2</th>\n      <td>M3A</td>\n      <td>North York</td>\n      <td>Parkwoods</td>\n    </tr>\n    <tr>\n      <th>3</th>\n      <td>M4A</td>\n      <td>North York</td>\n      <td>Victoria Village</td>\n    </tr>\n    <tr>\n      <th>4</th>\n      <td>M5A</td>\n      <td>Downtown Toronto</td>\n      <td>Regent Park, Harbourfront</td>\n    </tr>\n  </tbody>\n</table>\n</div>"
                    },
                    "metadata": {}
                }
            ]
        },
        {
            "metadata": {},
            "cell_type": "markdown",
            "source": "<h2>Part 2<h2>"
        },
        {
            "metadata": {},
            "cell_type": "code",
            "source": "import geocoder # import geocoder\n\n# initialize your variable to None\nlat_lng_coords = None\n\n# loop until you get the coordinates\nwhile(lat_lng_coords is None):\n  g = geocoder.google('{}, Toronto, Ontario'.format(postal_code))\n  lat_lng_coords = g.latlng\n\nlatitude = lat_lng_coords[0]\nlongitude = lat_lng_coords[1]",
            "execution_count": 6,
            "outputs": [
                {
                    "output_type": "error",
                    "ename": "ModuleNotFoundError",
                    "evalue": "No module named 'geocoder'",
                    "traceback": [
                        "\u001b[0;31m---------------------------------------------------------------------------\u001b[0m",
                        "\u001b[0;31mModuleNotFoundError\u001b[0m                       Traceback (most recent call last)",
                        "\u001b[0;32m<ipython-input-6-15d80b1bb123>\u001b[0m in \u001b[0;36m<module>\u001b[0;34m\u001b[0m\n\u001b[0;32m----> 1\u001b[0;31m \u001b[0;32mimport\u001b[0m \u001b[0mgeocoder\u001b[0m \u001b[0;31m# import geocoder\u001b[0m\u001b[0;34m\u001b[0m\u001b[0;34m\u001b[0m\u001b[0m\n\u001b[0m\u001b[1;32m      2\u001b[0m \u001b[0;34m\u001b[0m\u001b[0m\n\u001b[1;32m      3\u001b[0m \u001b[0;31m# initialize your variable to None\u001b[0m\u001b[0;34m\u001b[0m\u001b[0;34m\u001b[0m\u001b[0;34m\u001b[0m\u001b[0m\n\u001b[1;32m      4\u001b[0m \u001b[0mlat_lng_coords\u001b[0m \u001b[0;34m=\u001b[0m \u001b[0;32mNone\u001b[0m\u001b[0;34m\u001b[0m\u001b[0;34m\u001b[0m\u001b[0m\n\u001b[1;32m      5\u001b[0m \u001b[0;34m\u001b[0m\u001b[0m\n",
                        "\u001b[0;31mModuleNotFoundError\u001b[0m: No module named 'geocoder'"
                    ]
                }
            ]
        },
        {
            "metadata": {},
            "cell_type": "markdown",
            "source": "<h2>Part 3<h2>"
        },
        {
            "metadata": {},
            "cell_type": "code",
            "source": "df2 = pd.read_csv('http://cocl.us/Geospatial_data')\ndf2.head",
            "execution_count": 12,
            "outputs": [
                {
                    "output_type": "execute_result",
                    "execution_count": 12,
                    "data": {
                        "text/plain": "<bound method NDFrame.head of     Postal Code   Latitude  Longitude\n0           M1B  43.806686 -79.194353\n1           M1C  43.784535 -79.160497\n2           M1E  43.763573 -79.188711\n3           M1G  43.770992 -79.216917\n4           M1H  43.773136 -79.239476\n5           M1J  43.744734 -79.239476\n6           M1K  43.727929 -79.262029\n7           M1L  43.711112 -79.284577\n8           M1M  43.716316 -79.239476\n9           M1N  43.692657 -79.264848\n10          M1P  43.757410 -79.273304\n11          M1R  43.750072 -79.295849\n12          M1S  43.794200 -79.262029\n13          M1T  43.781638 -79.304302\n14          M1V  43.815252 -79.284577\n15          M1W  43.799525 -79.318389\n16          M1X  43.836125 -79.205636\n17          M2H  43.803762 -79.363452\n18          M2J  43.778517 -79.346556\n19          M2K  43.786947 -79.385975\n20          M2L  43.757490 -79.374714\n21          M2M  43.789053 -79.408493\n22          M2N  43.770120 -79.408493\n23          M2P  43.752758 -79.400049\n24          M2R  43.782736 -79.442259\n25          M3A  43.753259 -79.329656\n26          M3B  43.745906 -79.352188\n27          M3C  43.725900 -79.340923\n28          M3H  43.754328 -79.442259\n29          M3J  43.767980 -79.487262\n..          ...        ...        ...\n73          M6C  43.693781 -79.428191\n74          M6E  43.689026 -79.453512\n75          M6G  43.669542 -79.422564\n76          M6H  43.669005 -79.442259\n77          M6J  43.647927 -79.419750\n78          M6K  43.636847 -79.428191\n79          M6L  43.713756 -79.490074\n80          M6M  43.691116 -79.476013\n81          M6N  43.673185 -79.487262\n82          M6P  43.661608 -79.464763\n83          M6R  43.648960 -79.456325\n84          M6S  43.651571 -79.484450\n85          M7A  43.662301 -79.389494\n86          M7R  43.636966 -79.615819\n87          M7Y  43.662744 -79.321558\n88          M8V  43.605647 -79.501321\n89          M8W  43.602414 -79.543484\n90          M8X  43.653654 -79.506944\n91          M8Y  43.636258 -79.498509\n92          M8Z  43.628841 -79.520999\n93          M9A  43.667856 -79.532242\n94          M9B  43.650943 -79.554724\n95          M9C  43.643515 -79.577201\n96          M9L  43.756303 -79.565963\n97          M9M  43.724766 -79.532242\n98          M9N  43.706876 -79.518188\n99          M9P  43.696319 -79.532242\n100         M9R  43.688905 -79.554724\n101         M9V  43.739416 -79.588437\n102         M9W  43.706748 -79.594054\n\n[103 rows x 3 columns]>"
                    },
                    "metadata": {}
                }
            ]
        }
    ],
    "metadata": {
        "kernelspec": {
            "name": "python3",
            "display_name": "Python 3.6",
            "language": "python"
        },
        "language_info": {
            "name": "python",
            "version": "3.6.9",
            "mimetype": "text/x-python",
            "codemirror_mode": {
                "name": "ipython",
                "version": 3
            },
            "pygments_lexer": "ipython3",
            "nbconvert_exporter": "python",
            "file_extension": ".py"
        }
    },
    "nbformat": 4,
    "nbformat_minor": 1
}